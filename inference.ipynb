{
 "cells": [
  {
   "cell_type": "markdown",
   "metadata": {},
   "source": [
    "#### Import libraries and setup matplotlib"
   ]
  },
  {
   "cell_type": "code",
   "execution_count": null,
   "metadata": {},
   "outputs": [],
   "source": [
    "import matplotlib\n",
    "%matplotlib inline\n",
    "import matplotlib.pylab as plt\n",
    "\n",
    "import IPython.display as ipd\n",
    "\n",
    "import sys\n",
    "import numpy as np\n",
    "import torch\n",
    "\n",
    "from hparams import create_hparams\n",
    "from model import Tacotron2\n",
    "from layers import TacotronSTFT, STFT\n",
    "from audio_processing import griffin_lim\n",
    "from train import load_model\n",
    "from text import text_to_sequence\n",
    "#from denoiser import Denoiser\n",
    "\n",
    "#my libraries\n",
    "import scipy.io\n",
    "from phoneme_to_seq import *\n",
    "from fastdtw import fastdtw\n",
    "import random\n",
    "from scipy.spatial.distance import euclidean\n",
    "from scipy.stats import pearsonr"
   ]
  },
  {
   "cell_type": "code",
   "execution_count": null,
   "metadata": {},
   "outputs": [],
   "source": [
    "def plot_data(data, figsize=(16, 4)):\n",
    "    fig, axes = plt.subplots(1, len(data), figsize=figsize)\n",
    "    for i in range(len(data)):\n",
    "        axes[i].imshow(data[i], aspect='auto', origin='bottom', \n",
    "                       interpolation='none')"
   ]
  },
  {
   "cell_type": "markdown",
   "metadata": {},
   "source": [
    "#### Setup hparams"
   ]
  },
  {
   "cell_type": "code",
   "execution_count": null,
   "metadata": {},
   "outputs": [],
   "source": [
    "hparams = create_hparams()\n",
    "hparams.sampling_rate = 22050"
   ]
  },
  {
   "cell_type": "markdown",
   "metadata": {},
   "source": [
    "#### Load model from checkpoint"
   ]
  },
  {
   "cell_type": "code",
   "execution_count": null,
   "metadata": {},
   "outputs": [],
   "source": [
    "checkpoint_path = \"...\"\n",
    "print(\"loading: \\n\",checkpoint_path)\n",
    "model = load_model(hparams)\n",
    "model.load_state_dict(torch.load(checkpoint_path)['state_dict'])\n",
    "_ = model.cuda().eval().half()"
   ]
  },
  {
   "cell_type": "markdown",
   "metadata": {},
   "source": [
    "#### INFERENCE"
   ]
  },
  {
   "cell_type": "code",
   "execution_count": null,
   "metadata": {
    "scrolled": true
   },
   "outputs": [],
   "source": [
    "dct=prep_dct()\n",
    "test_file= open(\"path to meta file for testing\",'r')\n",
    "print(\"Testin on : \",test_file.name)\n",
    "lines=test_file.readlines()\n",
    "coefficients=[]\n",
    "rMSE=[]\n",
    "for line in lines:\n",
    "    path=line.split('|')\n",
    "        \n",
    "    sequence = np.array(to_sequence(path[1][:-1],dct))[None, :]\n",
    "    sequence = torch.autograd.Variable(\n",
    "        torch.from_numpy(sequence)).cuda().long()\n",
    "    torch.manual_seed(1234)\n",
    "    mel_outputs, mel_outputs_postnet, _, alignments = model.inference(sequence)\n",
    "\n",
    "    X=clip_ema_silence(path[0])\n",
    "    Y=mel_outputs_postnet[0].cpu().detach().numpy().transpose()\n",
    "    #print(X.shape,Y.shape)\n",
    "    dis,pth=fastdtw(X,Y, dist=euclidean)\n",
    "    for artic in range(0,12):\n",
    "        out=[]\n",
    "        gt=[]\n",
    "        for i in range(0,len(pth)):\n",
    "            out.append(Y[pth[i][1]][artic])\n",
    "            #for i in range(0,Yout.shape[0]):\n",
    "            gt.append(X[pth[i][0]][artic])\n",
    "        coef=pearsonr(out,gt)\n",
    "        coefficients.append(coef)\n",
    "        rMSE.append(np.sqrt(np.mean(np.square(np.asarray(out)-np.asarray(gt)))))\n",
    "print(sub)\n",
    "print(np.mean(rMSE,axis=0))      \n",
    "print(np.mean(coefficients,axis=0))"
   ]
  },
  {
   "cell_type": "markdown",
   "metadata": {},
   "source": [
    "<h4>CORRELATION AND RMSE for 12 articulators</h4>"
   ]
  },
  {
   "cell_type": "code",
   "execution_count": null,
   "metadata": {},
   "outputs": [],
   "source": [
    "c=np.asarray(coefficients)\n",
    "c=c[:,0].reshape(46,12)\n",
    "c=np.mean(c,axis=0)\n",
    "print(\"Correlation : \\n\",c)\n",
    "rmse=np.asarray(rMSE)\n",
    "rmse=rmse[:].reshape(46,12)\n",
    "rmse=np.mean(rmse,axis=0)\n",
    "print(\"RMSE : \\n\", rmse)"
   ]
  },
  {
   "cell_type": "markdown",
   "metadata": {},
   "source": [
    "<h4>Store results in excel</h4>"
   ]
  },
  {
   "cell_type": "code",
   "execution_count": null,
   "metadata": {},
   "outputs": [],
   "source": [
    "##write xlsx\n",
    "import xlsxwriter\n",
    "workbk=xlsxwriter.Workbook('excel_sheets/results_'+sub_list[sub]+'.xlsx')\n",
    "wrksht=workbk.add_worksheet()\n",
    "print(\"Writing to \",'excel_sheets/results_'+sub_list[sub]+'.xlsx')\n",
    "row=0\n",
    "col=0\n",
    "for x,y,i in zip(c,rmse,range(0,12)):\n",
    "    wrksht.write(row,col,x)\n",
    "    wrksht.write(row+5,col,y)\n",
    "    col+=1\n",
    "workbk.close()"
   ]
  },
  {
   "cell_type": "markdown",
   "metadata": {},
   "source": [
    "<h3>Best Articulatory Plots</h3"
   ]
  },
  {
   "cell_type": "code",
   "execution_count": null,
   "metadata": {},
   "outputs": [],
   "source": [
    "coeffi=[]\n",
    "path=lines[int(coefficients.index(max(coefficients))/12)].split('|')\n",
    "sequence = np.array(to_sequence(path[1][:-1],dct))[None, :]\n",
    "sequence = torch.autograd.Variable(torch.from_numpy(sequence)).cuda().long()\n",
    "##### Decode text input and plot results\n",
    "torch.manual_seed(1234)\n",
    "mel_outputs, mel_outputs_postnet, _, alignments = model.inference(sequence)\n",
    "#####plot with ema gt\n",
    "####plot with dtw aligned and correlation\n",
    "X=clip_ema_silence(path[0])\n",
    "Y=mel_outputs[0].cpu().detach().numpy().transpose()\n",
    "dis,pth=fastdtw(X,Y, dist=euclidean)\n",
    "for artic in range(0,12):\n",
    "    out=[]\n",
    "    gt=[]\n",
    "    for i in range(0,len(pth)):\n",
    "        out.append(Y[pth[i][1]][artic])\n",
    "        #for i in range(0,Yout.shape[0]):\n",
    "        gt.append(X[pth[i][0]][artic])\n",
    "    coef=pearsonr(out,gt)\n",
    "    coeffi.append(coef)\n",
    "    plt.plot(gt)\n",
    "    plt.plot(out)\n",
    "    plt.figure()\n",
    "print(coeffi[coefficients.index(max(coefficients))%12])\n",
    "print(np.mean(coeffi,axis=0))"
   ]
  },
  {
   "cell_type": "markdown",
   "metadata": {},
   "source": [
    "<h1> Alignment for sentence</h1>"
   ]
  },
  {
   "cell_type": "code",
   "execution_count": null,
   "metadata": {},
   "outputs": [],
   "source": [
    "dct=prep_dct()\n",
    "path='...'\n",
    "sequence = np.array(to_sequence(path,dct))[None, :]\n",
    "sequence = torch.autograd.Variable(torch.from_numpy(sequence)).cuda().long()\n",
    "\n",
    "##### Decode text input and plot results\n",
    "\n",
    "torch.manual_seed(1234)\n",
    "mel_outputs, mel_outputs_postnet, _, alignments = model.inference(sequence)\n",
    "print(sequence.shape)\n",
    "print(alignments.shape)\n",
    "plot_data((mel_outputs.float().data.cpu().numpy()[0],\n",
    "           mel_outputs_postnet.float().data.cpu().numpy()[0],\n",
    "           alignments.float().data.cpu().numpy()[0].T))\n"
   ]
  }
 ],
 "metadata": {
  "kernelspec": {
   "display_name": "Python 3",
   "language": "python",
   "name": "python3"
  },
  "language_info": {
   "codemirror_mode": {
    "name": "ipython",
    "version": 3
   },
   "file_extension": ".py",
   "mimetype": "text/x-python",
   "name": "python",
   "nbconvert_exporter": "python",
   "pygments_lexer": "ipython3",
   "version": "3.6.9"
  }
 },
 "nbformat": 4,
 "nbformat_minor": 2
}
